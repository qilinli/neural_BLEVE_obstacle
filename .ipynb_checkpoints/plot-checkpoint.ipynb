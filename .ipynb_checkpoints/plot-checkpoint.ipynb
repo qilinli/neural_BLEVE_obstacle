{
 "cells": [
  {
   "cell_type": "code",
   "execution_count": 1,
   "metadata": {},
   "outputs": [
    {
     "name": "stdout",
     "output_type": "stream",
     "text": [
      "MAPE_train: 6.651871681213379\n",
      "R2_train: 0.9967442409977654\n",
      "MAPE_val: 7.657172679901123\n",
      "R2_val: 0.9953216698891564\n",
      "MAPE_test: 6.4177141189575195\n",
      "R2_test: 0.9956941450585546\n"
     ]
    },
    {
     "data": {
      "image/png": "[encoded data removed]",
      "text/plain": [
       "<Figure size 432x288 with 1 Axes>"
      ]
     },
     "metadata": {
      "needs_background": "light"
     },
     "output_type": "display_data"
    },
    {
     "name": "stdout",
     "output_type": "stream",
     "text": [
      "MAPE_real_test: 30.60380744934082\n",
      "R2_real_test: 0.6554470700241105\n"
     ]
    }
   ],
   "source": [
    "import torch\n",
    "import torch.nn as nn\n",
    "import glob\n",
    "from main import *\n",
    "import numpy as np\n",
    "import pandas as pd\n",
    "import seaborn as sns\n",
    "import matplotlib.pyplot as plt\n",
    "from sklearn.metrics import r2_score\n",
    "\n",
    "\n",
    "# Name of features\n",
    "columns = ['Tank failure Pressure (bar)',\n",
    "           'Liquid ratio',\n",
    "           'Tank width (m)',\n",
    "           'Tank length (m)',\n",
    "           'Tank height (m)',\n",
    "           'Height of BLEVE (m)',\n",
    "           'Vapour temerature (K)',\n",
    "           'Liquid temerature (K)',\n",
    "           'Status',\n",
    "           'Gas height  (m)',\n",
    "           'Distance to BLEVE']\n",
    "\n",
    "# Check the performance\n",
    "data = np.load('BLEVE_Butane_Propane.npz')\n",
    "mean = data['mean']\n",
    "std = data['std']\n",
    "\n",
    "model = MLPNet(features=[mean.shape[0], 256, 256, 256], activation_fn='mish')\n",
    "models_name = glob.glob('models/running_best_model.pt')\n",
    "models_name.sort()\n",
    "model.load_state_dict(torch.load(models_name[-1]), strict=False)\n",
    "model.eval()\n",
    "\n",
    "\n",
    "# On training set\n",
    "train_X = torch.tensor((data['train_X'] - mean) / std, dtype=torch.float32)\n",
    "train_y = torch.tensor(data['train_y'], dtype=torch.float32)\n",
    "pred_train = model(train_X)\n",
    "pred_train = pred_train.squeeze()\n",
    "print(\"MAPE_train: {}\".format(mean_absolute_percentage_error(train_y, pred_train)))\n",
    "print(\"R2_train: {}\".format(r2_score(data['train_y'], pred_train.detach().numpy())))\n",
    "\n",
    "df_train = pd.DataFrame(data['train_X'], columns=columns)\n",
    "df_train = df_train.assign(output_simulated=data['train_y'])\n",
    "df_train = df_train.assign(output_predicted=pred_train.detach().numpy())\n",
    "\n",
    "# On val set\n",
    "val_X = torch.tensor((data['val_X'] - mean) / std, dtype=torch.float32)\n",
    "val_y = torch.tensor(data['val_y'], dtype=torch.float32)\n",
    "pred_val = model(val_X)\n",
    "pred_val = pred_val.squeeze()\n",
    "print(\"MAPE_val: {}\".format(mean_absolute_percentage_error(val_y, pred_val)))\n",
    "print(\"R2_val: {}\".format(r2_score(data['val_y'], pred_val.detach().numpy())))\n",
    "\n",
    "df_val = pd.DataFrame(data['val_X'], columns=columns)\n",
    "df_val = df_val.assign(output_simulated=data['val_y'])\n",
    "df_val = df_val.assign(output_predicted=pred_val.detach().numpy())\n",
    "\n",
    "# On test set\n",
    "test_X = torch.tensor((data['test_X'] - mean) / std, dtype=torch.float32)\n",
    "test_y = torch.tensor(data['test_y'], dtype=torch.float32)\n",
    "pred_test = model(test_X)\n",
    "pred_test = pred_test.squeeze()\n",
    "print(\"MAPE_test: {}\".format(mean_absolute_percentage_error(test_y, pred_test)))\n",
    "print(\"R2_test: {}\".format(r2_score(data['test_y'], pred_test.detach().numpy())))\n",
    "\n",
    "df_test = pd.DataFrame(data['test_X'], columns=columns)\n",
    "df_test = df_test.assign(output_simulated=data['test_y'])\n",
    "df_test = df_test.assign(output_predicted=pred_test.detach().numpy())\n",
    "# df_test.to_excel(\"output.xlsx\", sheet_name='simulated_data')\n",
    "\n",
    "# Bar to kpa\n",
    "df_test['output_simulated'] = df_test['output_simulated'] * 100\n",
    "df_test['output_predicted'] = df_test['output_predicted'] * 100\n",
    "\n",
    "df_test_small = df_test.loc[df_test['output_simulated'] < 600]\n",
    "# df_test_small = df_test_small.loc[df_test_small['output_simulated'] < 1]\n",
    "\n",
    "sns.scatterplot(data=df_test_small,\n",
    "                x='output_predicted',\n",
    "                y=\"output_simulated\",\n",
    "                s=10)\n",
    "\n",
    "# Add line\n",
    "x_min = df_test_small['output_simulated'].min()\n",
    "x_max = df_test_small['output_simulated'].max()\n",
    "xx = np.arange(x_min, x_max, 0.001)\n",
    "y_n30 = xx * (1 - 0.1)\n",
    "y_p30 = xx * (1 + 0.1)\n",
    "sns.lineplot(x=xx, y=xx, color='r')\n",
    "sns.lineplot(x=xx, y=y_n30, color='r')\n",
    "sns.lineplot(x=xx, y=y_p30, color='r')\n",
    "\n",
    "plt.show()\n",
    "\n",
    "# LOAD real data\n",
    "real_test_X = data['real_test_X']\n",
    "real_test_y = data['real_test_y']\n",
    "\n",
    "real_test_X = torch.tensor((real_test_X - mean) / std, dtype=torch.float32)\n",
    "real_test_y = torch.tensor(real_test_y, dtype=torch.float32)\n",
    "real_pred_test = model(real_test_X)\n",
    "real_pred_test = real_pred_test.squeeze()\n",
    "print(\"MAPE_real_test: {}\".format(mean_absolute_percentage_error(real_test_y, real_pred_test)))\n",
    "print(\"R2_real_test: {}\".format(r2_score(data['real_test_y'], real_pred_test.detach().numpy())))\n",
    "\n",
    "#\n",
    "# df_test_real = pd.DataFrame(real_data[:, :-1], columns=columns)\n",
    "# df_test_real = df_test_real.assign(output_simulated=real_data[:, -1])\n",
    "# real_pred_test = real_pred_test.detach().numpy()\n",
    "# df_test_real = df_test_real.assign(output_predicted=real_pred_test)\n",
    "# df_test_real = df_test_real.assign(relative_error=np.abs(real_pred_test -\n",
    "#                                                          data['real_test_y'])/data['real_test_y'] * 100)\n",
    "# df_test_real.to_excel(\"output_real_data.xlsx\", sheet_name='real_data')\n",
    "#\n",
    "# df_test_small = df_train.loc[df_train['output_simulated'] < 0.1]\n",
    "#df_test_small = df_test_small.loc[df_test_small['output_simulated'] < 1]\n",
    "\n",
    "# sns.scatterplot(data=df_test_small,\n",
    "#                 x='output_predicted',\n",
    "#                 y=\"output_simulated\",\n",
    "#                 hue='Status',\n",
    "#                 s=10)\n",
    "\n",
    "# x_min = df_test_small['output_simulated'].min()\n",
    "# x_max = df_test_small['output_simulated'].max()\n",
    "# xx = np.arange(x_min, x_max, 0.001)\n",
    "#\n",
    "# sns.lineplot(x=xx, y=xx, color='r')\n",
    "\n",
    "#sns.lmplot(data=df_test, x=\"output_predicted\", y=\"output_simulated\", hue='Distance to BLEVE')\n",
    "# plt.show()"
   ]
  },
  {
   "cell_type": "code",
   "execution_count": 3,
   "metadata": {},
   "outputs": [],
   "source": [
    "# Statistics of training set\n",
    "mean = np.array([21.2, 0.491, 1.72, 5.01, 1.66, 1.01, 426, 356, 0.266, 27.5])\n",
    "std = np.array([9.01, 0.225, 0.787, 2.77, 0.748, 0.578, 84.5, 38.8, 0.442, 13.3])\n",
    "\n",
    "# Name of features\n",
    "columns = ['Tank failure Pressure (bar)',\n",
    "           'Liquid ratio',\n",
    "           'Tank width (m)',\n",
    "           'Tank length (m)',\n",
    "           'Tank height (m)',\n",
    "           'Height of BLEVE (m)',\n",
    "           'Vapour temerature (K)',\n",
    "           'Liquid temerature (K)',\n",
    "           'Status',\n",
    "           'Distance to BLEVE']"
   ]
  },
  {
   "cell_type": "code",
   "execution_count": 4,
   "metadata": {},
   "outputs": [
    {
     "data": {
      "text/plain": [
       "MLPNet(\n",
       "  (net): Sequential(\n",
       "    (fc1): Linear(in_features=10, out_features=256, bias=True)\n",
       "    (sig1): Mish()\n",
       "    (fc2): Linear(in_features=256, out_features=256, bias=True)\n",
       "    (sig2): Mish()\n",
       "    (out): Linear(in_features=256, out_features=1, bias=True)\n",
       "    (out1): Softplus(beta=5, threshold=20)\n",
       "  )\n",
       "  (activation_fn): Mish()\n",
       ")"
      ]
     },
     "execution_count": 4,
     "metadata": {},
     "output_type": "execute_result"
    }
   ],
   "source": [
    "model = MLPNet(features=[10, 256, 256], activation_fn='mish')\n",
    "models_name = glob.glob('models/*.pt')\n",
    "models_name.sort()\n",
    "model.load_state_dict(torch.load(models_name[-1]), strict=False)\n",
    "model.eval()"
   ]
  },
  {
   "cell_type": "code",
   "execution_count": 5,
   "metadata": {},
   "outputs": [
    {
     "name": "stdout",
     "output_type": "stream",
     "text": [
      "MAPE_train: 8.79565715789795\n",
      "MAPE_val: 8.809171676635742\n",
      "MAPE_test: 9.720152854919434\n"
     ]
    }
   ],
   "source": [
    "# Check the performance\n",
    "data = np.load('BLEVE_simulated_open.npz')\n",
    "\n",
    "train_X = torch.tensor((data['train_X'] - mean) / std, dtype=torch.float32)\n",
    "train_y = torch.tensor(data['train_y'], dtype=torch.float32)\n",
    "pred_train = model(train_X)\n",
    "pred_train = pred_train.squeeze()\n",
    "print(\"MAPE_train: {}\".format(mean_absolute_percentage_error(train_y, pred_train)))\n",
    "\n",
    "df_train = pd.DataFrame(data['train_X'], columns=columns)\n",
    "df_train = df_train.assign(output_simulated=data['train_y'])\n",
    "df_train = df_train.assign(output_predicted=pred_train.detach().numpy())\n",
    "\n",
    "val_X = torch.tensor((data['val_X'] - mean) / std, dtype=torch.float32)\n",
    "val_y = torch.tensor(data['val_y'], dtype=torch.float32)\n",
    "pred_val = model(val_X)\n",
    "pred_val = pred_val.squeeze()\n",
    "print(\"MAPE_val: {}\".format(mean_absolute_percentage_error(val_y, pred_val)))\n",
    "\n",
    "df_val = pd.DataFrame(data['val_X'], columns=columns)\n",
    "df_val = df_val.assign(output_simulated=data['val_y'])\n",
    "df_val = df_val.assign(output_predicted=pred_val.detach().numpy())\n",
    "\n",
    "\n",
    "test_X = torch.tensor((data['test_X'] - mean) / std, dtype=torch.float32)\n",
    "test_y = torch.tensor(data['test_y'], dtype=torch.float32)\n",
    "pred_test = model(test_X)\n",
    "pred_test = pred_test.squeeze()\n",
    "print(\"MAPE_test: {}\".format(mean_absolute_percentage_error(test_y, pred_test)))\n",
    "\n",
    "df_test = pd.DataFrame(data['test_X'], columns=columns)\n",
    "df_test = df_test.assign(output_simulated=data['test_y'])\n",
    "df_test = df_test.assign(output_predicted=pred_test.detach().numpy())"
   ]
  },
  {
   "cell_type": "code",
   "execution_count": 20,
   "metadata": {},
   "outputs": [
    {
     "data": {
      "image/png": "[encoded data removed]",
      "text/plain": [
       "<Figure size 432x288 with 1 Axes>"
      ]
     },
     "metadata": {
      "needs_background": "light"
     },
     "output_type": "display_data"
    }
   ],
   "source": [
    "i = 5\n",
    "# sns.scatterplot(data=df_test,\n",
    "#                 x='Distance to BLEVE',\n",
    "#                 y=\"output_simulated\")\n",
    "\n",
    "sns.scatterplot(data=df_val[:100], x='output_predicted', y=\"output_simulated\", s=5)\n",
    "plt.show()"
   ]
  },
  {
   "cell_type": "code",
   "execution_count": 42,
   "metadata": {},
   "outputs": [
    {
     "data": {
      "image/png": "[encoded data removed]",
      "text/plain": [
       "<Figure size 360x360 with 1 Axes>"
      ]
     },
     "metadata": {
      "needs_background": "light"
     },
     "output_type": "display_data"
    },
    {
     "data": {
      "image/png": "[encoded data removed]",
      "text/plain": [
       "<Figure size 402.375x360 with 1 Axes>"
      ]
     },
     "metadata": {
      "needs_background": "light"
     },
     "output_type": "display_data"
    },
    {
     "data": {
      "text/plain": [
       "<seaborn.axisgrid.FacetGrid at 0x263e8a32188>"
      ]
     },
     "execution_count": 42,
     "metadata": {},
     "output_type": "execute_result"
    },
    {
     "data": {
      "image/png": "[encoded data removed]",
      "text/plain": [
       "<Figure size 402.375x360 with 1 Axes>"
      ]
     },
     "metadata": {
      "needs_background": "light"
     },
     "output_type": "display_data"
    }
   ],
   "source": [
    "sns.displot(data=df_train, x=\"output_simulated\")\n",
    "plt.show()\n",
    "\n",
    "from sklearn.preprocessing import PowerTransformer\n",
    "pt = PowerTransformer(method='box-cox', standardize=True)\n",
    "x = df_train['output_simulated'].to_numpy()\n",
    "x = x.reshape(-1,1)\n",
    "xx = pt.fit_transform(x)\n",
    "sns.displot(data=xx)\n",
    "plt.show()\n",
    "\n",
    "xx = pt.inverse_transform(xx)\n",
    "sns.displot(data=xx)\n",
    "# plt.show()"
   ]
  },
  {
   "cell_type": "code",
   "execution_count": 67,
   "metadata": {},
   "outputs": [
    {
     "data": {
      "image/png": "[encoded data removed]",
      "text/plain": [
       "<Figure size 432x288 with 1 Axes>"
      ]
     },
     "metadata": {
      "needs_background": "light"
     },
     "output_type": "display_data"
    }
   ],
   "source": [
    "sns.scatterplot(data=df_test,\n",
    "                x='output_predicted',\n",
    "                y=\"output_simulated\",\n",
    "                s=5)\n",
    "sns.lineplot(x=xx,y=xx, color='r')\n",
    "plt.show()"
   ]
  },
  {
   "cell_type": "code",
   "execution_count": 57,
   "metadata": {},
   "outputs": [
    {
     "name": "stdout",
     "output_type": "stream",
     "text": [
      "4923\n"
     ]
    }
   ],
   "source": [
    "x_max = df_test['output_simulated'].max()\n",
    "x_min = df_test['output_simulated'].min()\n",
    "xx = np.arange(x_min, x_max, 0.001)\n",
    "print(len(xx))"
   ]
  },
  {
   "cell_type": "code",
   "execution_count": null,
   "metadata": {},
   "outputs": [],
   "source": []
  }
 ],
 "metadata": {
  "kernelspec": {
   "display_name": "Python 3",
   "language": "python",
   "name": "python3"
  },
  "language_info": {
   "codemirror_mode": {
    "name": "ipython",
    "version": 3
   },
   "file_extension": ".py",
   "mimetype": "text/x-python",
   "name": "python",
   "nbconvert_exporter": "python",
   "pygments_lexer": "ipython3",
   "version": "3.7.8"
  }
 },
 "nbformat": 4,
 "nbformat_minor": 4
}
